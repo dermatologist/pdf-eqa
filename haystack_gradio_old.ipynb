{
 "cells": [
  {
   "cell_type": "code",
   "execution_count": 9,
   "metadata": {},
   "outputs": [],
   "source": [
    "import gradio as gr\n",
    "import os\n",
    "from haystack.document_stores import InMemoryDocumentStore\n",
    "from haystack.nodes import TfidfRetriever\n",
    "from haystack.nodes import FARMReader, PreProcessor, PDFToTextConverter\n",
    "from haystack import Pipeline\n",
    "from haystack.pipelines import ExtractiveQAPipeline\n",
    "import PyPDF2\n"
   ]
  },
  {
   "cell_type": "code",
   "execution_count": 10,
   "metadata": {},
   "outputs": [],
   "source": [
    "document_store = InMemoryDocumentStore()\n",
    "retriever = TfidfRetriever(document_store=document_store)\n",
    "reader = FARMReader(\n",
    "    model_name_or_path=\"deepset/roberta-base-squad2\", use_gpu=False)\n",
    "\n",
    "\n",
    "querying_pipeline = Pipeline()\n",
    "querying_pipeline.add_node(\n",
    "    component=retriever, name=\"Retriever\", inputs=[\"Query\"])\n",
    "querying_pipeline.add_node(\n",
    "    component=reader, name=\"Reader\", inputs=[\"Retriever\"])\n"
   ]
  },
  {
   "cell_type": "code",
   "execution_count": 11,
   "metadata": {},
   "outputs": [],
   "source": [
    "preprocessor = PreProcessor(\n",
    "    clean_empty_lines=True,\n",
    "    clean_whitespace=True,\n",
    "    clean_header_footer=True,\n",
    "    split_by=\"word\",\n",
    "    split_length=100,\n",
    "    split_respect_sentence_boundary=True,\n",
    "    split_overlap=3\n",
    ")\n",
    "\n",
    "\n",
    "def print_answers(results):\n",
    "    fields = [\"answer\", \"score\"]  # \"context\",\n",
    "    answers = results[\"answers\"]\n",
    "    filtered_answers = []\n",
    "\n",
    "    for ans in answers:\n",
    "        filtered_ans = {\n",
    "            field: getattr(ans, field)\n",
    "            for field in fields\n",
    "            if getattr(ans, field) is not None\n",
    "        }\n",
    "        filtered_answers.append(filtered_ans)\n",
    "\n",
    "    return filtered_answers\n",
    "\n",
    "\n",
    "def run_once(f):\n",
    "    def wrapper(*args, **kwargs):\n",
    "        if not wrapper.has_run:\n",
    "            wrapper.has_run = True\n",
    "            return f(*args, **kwargs)\n",
    "    wrapper.has_run = False\n",
    "    return wrapper\n"
   ]
  },
  {
   "cell_type": "code",
   "execution_count": 12,
   "metadata": {},
   "outputs": [
    {
     "name": "stderr",
     "output_type": "stream",
     "text": [
      "/home/M267492/venv/rasa/lib/python3.8/site-packages/gradio/inputs.py:27: UserWarning: Usage of gradio.inputs is deprecated, and will not be supported in the future, please import your component from gradio.components\n",
      "  warnings.warn(\n",
      "/home/M267492/venv/rasa/lib/python3.8/site-packages/gradio/deprecation.py:40: UserWarning: `optional` parameter is deprecated, and it has no effect\n",
      "  warnings.warn(value)\n",
      "/home/M267492/venv/rasa/lib/python3.8/site-packages/gradio/deprecation.py:40: UserWarning: `numeric` parameter is deprecated, and it has no effect\n",
      "  warnings.warn(value)\n",
      "/home/M267492/venv/rasa/lib/python3.8/site-packages/gradio/inputs.py:347: UserWarning: Usage of gradio.inputs is deprecated, and will not be supported in the future, please import your components from gradio.components\n",
      "  warnings.warn(\n",
      "/home/M267492/venv/rasa/lib/python3.8/site-packages/gradio/deprecation.py:40: UserWarning: `keep_filename` parameter is deprecated, and it has no effect\n",
      "  warnings.warn(value)\n",
      "/home/M267492/venv/rasa/lib/python3.8/site-packages/gradio/blocks.py:503: UserWarning: Cannot load dark-grass. Caught Exception: The space dark-grass does not exist\n",
      "  warnings.warn(f\"Cannot load {theme}. Caught Exception: {str(e)}\")\n"
     ]
    },
    {
     "name": "stdout",
     "output_type": "stream",
     "text": [
      "Running on local URL:  http://127.0.0.1:7860\n",
      "\n",
      "To create a public link, set `share=True` in `launch()`.\n"
     ]
    },
    {
     "data": {
      "text/html": [
       "<div><iframe src=\"http://127.0.0.1:7860/\" width=\"100%\" height=\"500\" allow=\"autoplay; camera; microphone; clipboard-read; clipboard-write;\" frameborder=\"0\" allowfullscreen></iframe></div>"
      ],
      "text/plain": [
       "<IPython.core.display.HTML object>"
      ]
     },
     "metadata": {},
     "output_type": "display_data"
    },
    {
     "data": {
      "text/plain": []
     },
     "execution_count": 12,
     "metadata": {},
     "output_type": "execute_result"
    },
    {
     "name": "stderr",
     "output_type": "stream",
     "text": [
      "Traceback (most recent call last):\n",
      "  File \"/home/M267492/venv/rasa/lib/python3.8/site-packages/haystack/nodes/file_converter/pdf.py\", line 8, in <module>\n",
      "    from pdf2image import convert_from_path\n",
      "ModuleNotFoundError: No module named 'pdf2image'\n",
      "\n",
      "The above exception was the direct cause of the following exception:\n",
      "\n",
      "Traceback (most recent call last):\n",
      "  File \"/home/M267492/venv/rasa/lib/python3.8/site-packages/haystack/utils/import_utils.py\", line 30, in safe_import\n",
      "    module = importlib.import_module(import_path)\n",
      "  File \"/usr/lib/python3.8/importlib/__init__.py\", line 127, in import_module\n",
      "    return _bootstrap._gcd_import(name[level:], package, level)\n",
      "  File \"<frozen importlib._bootstrap>\", line 1014, in _gcd_import\n",
      "  File \"<frozen importlib._bootstrap>\", line 991, in _find_and_load\n",
      "  File \"<frozen importlib._bootstrap>\", line 975, in _find_and_load_unlocked\n",
      "  File \"<frozen importlib._bootstrap>\", line 671, in _load_unlocked\n",
      "  File \"<frozen importlib._bootstrap_external>\", line 848, in exec_module\n",
      "  File \"<frozen importlib._bootstrap>\", line 219, in _call_with_frames_removed\n",
      "  File \"/home/M267492/venv/rasa/lib/python3.8/site-packages/haystack/nodes/file_converter/pdf.py\", line 12, in <module>\n",
      "    _optional_component_not_installed(__name__, \"ocr\", ie)\n",
      "  File \"/home/M267492/venv/rasa/lib/python3.8/site-packages/haystack/utils/import_utils.py\", line 56, in _optional_component_not_installed\n",
      "    raise ImportError(\n",
      "ImportError: Failed to import 'haystack.nodes.file_converter.pdf', which is an optional component in Haystack.\n",
      "Run 'pip install 'farm-haystack[ocr]'' to install the required dependencies and make this component available.\n",
      "(Original error: No module named 'pdf2image')\n",
      "\n",
      "The above exception was the direct cause of the following exception:\n",
      "\n",
      "Traceback (most recent call last):\n",
      "  File \"/home/M267492/venv/rasa/lib/python3.8/site-packages/gradio/routes.py\", line 394, in run_predict\n",
      "    output = await app.get_blocks().process_api(\n",
      "  File \"/home/M267492/venv/rasa/lib/python3.8/site-packages/gradio/blocks.py\", line 1075, in process_api\n",
      "    result = await self.call_function(\n",
      "  File \"/home/M267492/venv/rasa/lib/python3.8/site-packages/gradio/blocks.py\", line 884, in call_function\n",
      "    prediction = await anyio.to_thread.run_sync(\n",
      "  File \"/home/M267492/venv/rasa/lib/python3.8/site-packages/anyio/to_thread.py\", line 31, in run_sync\n",
      "    return await get_asynclib().run_sync_in_worker_thread(\n",
      "  File \"/home/M267492/venv/rasa/lib/python3.8/site-packages/anyio/_backends/_asyncio.py\", line 937, in run_sync_in_worker_thread\n",
      "    return await future\n",
      "  File \"/home/M267492/venv/rasa/lib/python3.8/site-packages/anyio/_backends/_asyncio.py\", line 867, in run\n",
      "    result = context.run(func, *args)\n",
      "  File \"/mnt/disks/sdb/tmp/ipykernel_38444/3224108459.py\", line 15, in predict\n",
      "    written_document(pdf_file)\n",
      "  File \"/mnt/disks/sdb/tmp/ipykernel_38444/1301605627.py\", line 32, in wrapper\n",
      "    return f(*args, **kwargs)\n",
      "  File \"/mnt/disks/sdb/tmp/ipykernel_38444/3224108459.py\", line 6, in written_document\n",
      "    converter = PDFToTextConverter(\n",
      "  File \"/home/M267492/venv/rasa/lib/python3.8/site-packages/haystack/utils/import_utils.py\", line 47, in __init__\n",
      "    _optional_component_not_installed(classname, dep_group, import_error)\n",
      "  File \"/home/M267492/venv/rasa/lib/python3.8/site-packages/haystack/utils/import_utils.py\", line 56, in _optional_component_not_installed\n",
      "    raise ImportError(\n",
      "ImportError: Failed to import 'PDFToTextConverter', which is an optional component in Haystack.\n",
      "Run 'pip install 'farm-haystack[ocr]'' to install the required dependencies and make this component available.\n",
      "(Original error: Failed to import 'haystack.nodes.file_converter.pdf', which is an optional component in Haystack.\n",
      "Run 'pip install 'farm-haystack[ocr]'' to install the required dependencies and make this component available.\n",
      "(Original error: No module named 'pdf2image'))\n"
     ]
    }
   ],
   "source": [
    "\n",
    "pipe = ExtractiveQAPipeline(reader, retriever)\n",
    "\n",
    "\n",
    "@run_once\n",
    "def written_document(pdf_file):\n",
    "    converter = PDFToTextConverter(\n",
    "        remove_numeric_tables=True, valid_languages=[\"en\"])\n",
    "    document = [converter.convert(file_path=pdf_file.name, meta=None)[0]]\n",
    "    preprocessed_docs = preprocessor.process(document)\n",
    "    document_store.write_documents(preprocessed_docs)\n",
    "    return None\n",
    "\n",
    "\n",
    "def predict(question, pdf_file):\n",
    "    written_document(pdf_file)\n",
    "    result = pipe.run(query=question, params={\n",
    "        \"Retriever\": {\"top_k\": 20}, \"Reader\": {\"top_k\": 5}})\n",
    "    answers = print_answers(result)\n",
    "    return answers\n",
    "\n",
    "\n",
    "title = \"Search PDF Business Reports with Sparse Passage Retrieval\"\n",
    "description = \"\"\"\n",
    "<center>Sample Questions: What are strategic initiatives? </center>\n",
    "\"\"\"\n",
    "\n",
    "iface = gr.Interface(fn=predict,\n",
    "                     inputs=[gr.inputs.Textbox(lines=3, label='Ask an open question!'),\n",
    "                             gr.inputs.File(file_count=\"single\",\n",
    "                                            type=\"file\", label=\"Upload a pdf\"),\n",
    "                             ],\n",
    "                     outputs=\"text\",\n",
    "                     title=title, description=description,\n",
    "                     flagging_options=[\"top\", \"medium\", \"bad\"],\n",
    "                     interpretation=\"default\",\n",
    "                     theme=\"dark-grass\"  # \"default\", \"huggingface\", \"dark-grass\", \"peach\"\n",
    "                     )\n",
    "\n",
    "iface.launch(\n",
    "    # share=True,\n",
    "    # auth=(\"admin\", \"pass1234\"),\n",
    "    # enable_queue=True # cannot be enabled with auth enabled\n",
    ")\n"
   ]
  }
 ],
 "metadata": {
  "kernelspec": {
   "display_name": ".venv",
   "language": "python",
   "name": "python3"
  },
  "language_info": {
   "codemirror_mode": {
    "name": "ipython",
    "version": 3
   },
   "file_extension": ".py",
   "mimetype": "text/x-python",
   "name": "python",
   "nbconvert_exporter": "python",
   "pygments_lexer": "ipython3",
   "version": "3.8.10"
  },
  "orig_nbformat": 4
 },
 "nbformat": 4,
 "nbformat_minor": 2
}
