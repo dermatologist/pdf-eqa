{
 "cells": [
  {
   "cell_type": "code",
   "execution_count": 56,
   "metadata": {},
   "outputs": [],
   "source": [
    "import gradio as gr\n",
    "from haystack.document_stores import InMemoryDocumentStore\n",
    "from haystack.nodes import TfidfRetriever\n",
    "from haystack.nodes import FARMReader\n",
    "from haystack import Pipeline\n",
    "from haystack.pipelines import ExtractiveQAPipeline\n",
    "import PyPDF2\n"
   ]
  },
  {
   "cell_type": "code",
   "execution_count": 57,
   "metadata": {},
   "outputs": [],
   "source": [
    "document_store = InMemoryDocumentStore()\n",
    "retriever = TfidfRetriever(document_store=document_store)\n",
    "reader = FARMReader(\n",
    "    model_name_or_path=\"deepset/roberta-base-squad2\", use_gpu=False)\n",
    "    \n",
    "# AshtonIsNotHere/GatorTron-OG\n",
    "# deepset/roberta-base-squad2\n",
    "# distilbert-base-uncased\n",
    "\n",
    "\n",
    "querying_pipeline = Pipeline()\n",
    "querying_pipeline.add_node(\n",
    "    component=retriever, name=\"Retriever\", inputs=[\"Query\"])\n",
    "querying_pipeline.add_node(\n",
    "    component=reader, name=\"Reader\", inputs=[\"Retriever\"])\n"
   ]
  },
  {
   "cell_type": "code",
   "execution_count": 58,
   "metadata": {},
   "outputs": [],
   "source": [
    "\n",
    "def print_answers(results):\n",
    "    fields = [\"answer\", \"score\", \"context\"]  # \"context\",\n",
    "    answers = results[\"answers\"]\n",
    "    filtered_answers = []\n",
    "\n",
    "    for ans in answers:\n",
    "        filtered_ans = {\n",
    "            field: getattr(ans, field)\n",
    "            for field in fields\n",
    "            if getattr(ans, field) is not None\n",
    "        }\n",
    "        filtered_answers.append(filtered_ans)\n",
    "\n",
    "    return filtered_answers\n",
    "\n",
    "\n",
    "def run_once(f):\n",
    "    def wrapper(*args, **kwargs):\n",
    "        if not wrapper.has_run:\n",
    "            wrapper.has_run = True\n",
    "            return f(*args, **kwargs)\n",
    "    wrapper.has_run = False\n",
    "    return wrapper\n"
   ]
  },
  {
   "cell_type": "code",
   "execution_count": 59,
   "metadata": {},
   "outputs": [],
   "source": [
    "\n",
    "pipe = ExtractiveQAPipeline(reader, retriever)\n",
    "\n",
    "\n",
    "@run_once\n",
    "def written_document(pdf_file):\n",
    "    dict_of_docs = []\n",
    "    pdfReader = PyPDF2.PdfReader(pdf_file)\n",
    "    for index, page in enumerate(pdfReader.pages):\n",
    "        text = page.extract_text()\n",
    "        document = {\"content\": text, \"meta\": {\n",
    "            \"name\": pdf_file + \" - \" + str(index + 1)}}\n",
    "        dict_of_docs.append(document)\n",
    "    document_store.write_documents(dict_of_docs)\n",
    "    return None\n",
    "\n",
    "\n",
    "def predict(question, pdf_file):\n",
    "    written_document(pdf_file)\n",
    "    result = pipe.run(query=question, params={\n",
    "        \"Retriever\": {\"top_k\": 3}, \"Reader\": {\"top_k\": 2}})\n",
    "    answers = print_answers(result)\n",
    "    return answers\n"
   ]
  },
  {
   "cell_type": "code",
   "execution_count": 60,
   "metadata": {},
   "outputs": [
    {
     "name": "stderr",
     "output_type": "stream",
     "text": [
      "WARNING:haystack.nodes.retriever.sparse:Indexed documents have been updated and fit() method needs to be run before retrieval. Running it now.\n"
     ]
    },
    {
     "data": {
      "application/vnd.jupyter.widget-view+json": {
       "model_id": "297fc7e6fec84113ae419b39f81419c5",
       "version_major": 2,
       "version_minor": 0
      },
      "text/plain": [
       "Inferencing Samples:   0%|          | 0/1 [00:00<?, ? Batches/s]"
      ]
     },
     "metadata": {},
     "output_type": "display_data"
    },
    {
     "name": "stdout",
     "output_type": "stream",
     "text": [
      "[{'answer': 'views the inside of your large intestine (colon) for bleeding, inflammation, polyps and tumors', 'score': 0.6540099382400513, 'context': 'r Colonoscopy\\nA colonoscopy views the inside of your large intestine (colon) for bleeding, inflammation, polyps and tumors. See Figure \\n1.\\n \\nDuring th'}, {'answer': 'special diet', 'score': 0.24448636174201965, 'context': 'ns now.\\nA thorough colon, or bowel, cleansing along with following a special diet before your colonoscopy is \\nkey to its success.\\nThe best colon clean'}]\n"
     ]
    }
   ],
   "source": [
    "# Load an initial PDF file\n",
    "print(predict(\"What is colonoscopy?\",\n",
    "      \"sample_reports/colonoscopy.pdf\"))\n"
   ]
  },
  {
   "cell_type": "code",
   "execution_count": 61,
   "metadata": {},
   "outputs": [
    {
     "name": "stderr",
     "output_type": "stream",
     "text": [
      "/home/M267492/venv/rasa/lib/python3.8/site-packages/gradio/blocks.py:503: UserWarning: Cannot load default. Caught Exception: The space default does not exist\n",
      "  warnings.warn(f\"Cannot load {theme}. Caught Exception: {str(e)}\")\n"
     ]
    },
    {
     "name": "stdout",
     "output_type": "stream",
     "text": [
      "Running on local URL:  http://127.0.0.1:7870\n",
      "\n",
      "To create a public link, set `share=True` in `launch()`.\n"
     ]
    },
    {
     "data": {
      "text/html": [
       "<div><iframe src=\"http://127.0.0.1:7870/\" width=\"100%\" height=\"500\" allow=\"autoplay; camera; microphone; clipboard-read; clipboard-write;\" frameborder=\"0\" allowfullscreen></iframe></div>"
      ],
      "text/plain": [
       "<IPython.core.display.HTML object>"
      ]
     },
     "metadata": {},
     "output_type": "display_data"
    },
    {
     "data": {
      "text/plain": []
     },
     "execution_count": 61,
     "metadata": {},
     "output_type": "execute_result"
    }
   ],
   "source": [
    "\n",
    "title = \"Search PDF Documents with Sparse Passage Retrieval\"\n",
    "description = \"\"\"\n",
    "<center>Sample Questions: What is colonoscopy? </center>\n",
    "\"\"\"\n",
    "\n",
    "iface = gr.Interface(fn=predict,\n",
    "                     inputs=[gr.Textbox(lines=3, label='Ask an open question!'),\n",
    "                             gr.File(file_count=\"single\",\n",
    "                                            type=\"file\", label=\"Upload a pdf\"),\n",
    "                             ],\n",
    "                     outputs=\"text\",\n",
    "                     title=title, description=description,\n",
    "                     flagging_options=[\"top\", \"medium\", \"bad\"],\n",
    "                     interpretation=\"default\",\n",
    "                     theme=\"default\"  # \"default\", \"huggingface\", \"dark-grass\", \"peach\"\n",
    "                     )\n",
    "\n",
    "iface.launch(\n",
    "    # share=True,\n",
    "    # auth=(\"admin\", \"pass1234\"),\n",
    "    # enable_queue=True # cannot be enabled with auth enabled\n",
    ")\n"
   ]
  }
 ],
 "metadata": {
  "kernelspec": {
   "display_name": ".venv",
   "language": "python",
   "name": "python3"
  },
  "language_info": {
   "codemirror_mode": {
    "name": "ipython",
    "version": 3
   },
   "file_extension": ".py",
   "mimetype": "text/x-python",
   "name": "python",
   "nbconvert_exporter": "python",
   "pygments_lexer": "ipython3",
   "version": "3.8.10"
  },
  "orig_nbformat": 4
 },
 "nbformat": 4,
 "nbformat_minor": 2
}
